{
  "nbformat": 4,
  "nbformat_minor": 0,
  "metadata": {
    "colab": {
      "name": "Untitled0.ipynb",
      "provenance": [],
      "authorship_tag": "ABX9TyOXHkfter7go7lx81DjFHnu",
      "include_colab_link": true
    },
    "kernelspec": {
      "name": "python3",
      "display_name": "Python 3"
    },
    "language_info": {
      "name": "python"
    }
  },
  "cells": [
    {
      "cell_type": "markdown",
      "metadata": {
        "id": "view-in-github",
        "colab_type": "text"
      },
      "source": [
        "<a href=\"https://colab.research.google.com/github/C0ntinue/pytorch_tutorial/blob/main/Linear_regression.ipynb\" target=\"_parent\"><img src=\"https://colab.research.google.com/assets/colab-badge.svg\" alt=\"Open In Colab\"/></a>"
      ]
    },
    {
      "cell_type": "code",
      "metadata": {
        "id": "jxLVkLv2wGVU"
      },
      "source": [
        "import numpy as np\n",
        "import torch\n",
        "import matplotlib.pyplot as plt\n",
        "%matplotlib inline\n",
        "import torch.nn as nn\n",
        "import torch.nn.functional as F\n",
        "import torch.optim as optim"
      ],
      "execution_count": 57,
      "outputs": []
    },
    {
      "cell_type": "code",
      "metadata": {
        "colab": {
          "base_uri": "https://localhost:8080/"
        },
        "id": "mTXrBQq3x-Cu",
        "outputId": "0f06fdc7-cbfe-47dc-bcc3-3374393072d9"
      },
      "source": [
        "arr = [1, 2, 3, 4, 5]\n",
        "nparr = np.array(arr)\n",
        "nparr2 = np.array((1, 2, 3, 4, 5))\n",
        "print(nparr)\n",
        "print(nparr2)"
      ],
      "execution_count": 11,
      "outputs": [
        {
          "output_type": "stream",
          "name": "stdout",
          "text": [
            "[1 2 3 4 5]\n",
            "[1 2 3 4 5]\n"
          ]
        }
      ]
    },
    {
      "cell_type": "code",
      "metadata": {
        "colab": {
          "base_uri": "https://localhost:8080/"
        },
        "id": "8nAWwLb8zxdX",
        "outputId": "6f5c22b6-3f68-4614-8ccc-d1b876e09bb3"
      },
      "source": [
        "nparr3=np.array([nparr,nparr2])\n",
        "print(nparr3)\n",
        "r,c = np.shape(nparr3)\n",
        "print(r, c)\n",
        "for i in range(r):\n",
        "  for j in range(c):\n",
        "    print(nparr3[i][j])"
      ],
      "execution_count": 22,
      "outputs": [
        {
          "output_type": "stream",
          "name": "stdout",
          "text": [
            "[[1 2 3 4 5]\n",
            " [1 2 3 4 5]]\n",
            "2 5\n",
            "1\n",
            "2\n",
            "3\n",
            "4\n",
            "5\n",
            "1\n",
            "2\n",
            "3\n",
            "4\n",
            "5\n"
          ]
        }
      ]
    },
    {
      "cell_type": "code",
      "metadata": {
        "id": "riBBqOBZ0kz4"
      },
      "source": [
        "x_train = torch.FloatTensor([[1],[2],[3]])\n",
        "y_train = torch.FloatTensor([[2],[4],[6]])\n"
      ],
      "execution_count": 50,
      "outputs": []
    },
    {
      "cell_type": "code",
      "metadata": {
        "colab": {
          "base_uri": "https://localhost:8080/",
          "height": 284
        },
        "id": "xMXUTrQ21AII",
        "outputId": "9af3f5bd-a038-46aa-cd73-4c59cae508e2"
      },
      "source": [
        "plt.scatter(x_train, y_train)"
      ],
      "execution_count": 51,
      "outputs": [
        {
          "output_type": "execute_result",
          "data": {
            "text/plain": [
              "<matplotlib.collections.PathCollection at 0x7f4ad458c3d0>"
            ]
          },
          "metadata": {},
          "execution_count": 51
        },
        {
          "output_type": "display_data",
          "data": {
            "image/png": "[encoded data removed]",
            "text/plain": [
              "<Figure size 432x288 with 1 Axes>"
            ]
          },
          "metadata": {
            "needs_background": "light"
          }
        }
      ]
    },
    {
      "cell_type": "code",
      "metadata": {
        "id": "sOgUVxBg15nT"
      },
      "source": [
        "x = np.linspace(0,10,11)\n",
        "y = np.linspace(0, 10, 11)"
      ],
      "execution_count": 33,
      "outputs": []
    },
    {
      "cell_type": "code",
      "metadata": {
        "colab": {
          "base_uri": "https://localhost:8080/",
          "height": 284
        },
        "id": "R7W3FxrP2KwE",
        "outputId": "5b1628d0-b91d-4115-f10f-03c69b3e5cfe"
      },
      "source": [
        "plt.plot(x,y)"
      ],
      "execution_count": 34,
      "outputs": [
        {
          "output_type": "execute_result",
          "data": {
            "text/plain": [
              "[<matplotlib.lines.Line2D at 0x7f4ad4685090>]"
            ]
          },
          "metadata": {},
          "execution_count": 34
        },
        {
          "output_type": "display_data",
          "data": {
            "image/png": "[encoded data removed]",
            "text/plain": [
              "<Figure size 432x288 with 1 Axes>"
            ]
          },
          "metadata": {
            "needs_background": "light"
          }
        }
      ]
    },
    {
      "cell_type": "code",
      "metadata": {
        "colab": {
          "base_uri": "https://localhost:8080/"
        },
        "id": "v_zeCpWP2VK_",
        "outputId": "6ac60e91-ea9e-4464-e6ee-6bbe7db2a3f5"
      },
      "source": [
        "W = torch.zeros(1, requires_grad=True)\n",
        "print(W)"
      ],
      "execution_count": 52,
      "outputs": [
        {
          "output_type": "stream",
          "name": "stdout",
          "text": [
            "tensor([0.], requires_grad=True)\n"
          ]
        }
      ]
    },
    {
      "cell_type": "code",
      "metadata": {
        "colab": {
          "base_uri": "https://localhost:8080/"
        },
        "id": "Mgrt0mKr5dwn",
        "outputId": "9b34f1c5-f16a-4dba-e28b-2e8e77e4d476"
      },
      "source": [
        "b = torch.zeros(1, requires_grad=True)\n",
        "print(b)"
      ],
      "execution_count": 53,
      "outputs": [
        {
          "output_type": "stream",
          "name": "stdout",
          "text": [
            "tensor([0.], requires_grad=True)\n"
          ]
        }
      ]
    },
    {
      "cell_type": "code",
      "metadata": {
        "id": "KwNmyz6_3wjJ"
      },
      "source": [
        "hypothesis = x_train* W + b"
      ],
      "execution_count": 54,
      "outputs": []
    },
    {
      "cell_type": "code",
      "metadata": {
        "colab": {
          "base_uri": "https://localhost:8080/"
        },
        "id": "2iH3HKJM4FoK",
        "outputId": "1f779332-9d5a-455f-be49-eb9b79826e0e"
      },
      "source": [
        "cost = torch.mean((hypothesis-y_train)**2)\n",
        "print(cost)"
      ],
      "execution_count": 56,
      "outputs": [
        {
          "output_type": "stream",
          "name": "stdout",
          "text": [
            "tensor(18.6667, grad_fn=<MeanBackward0>)\n"
          ]
        }
      ]
    },
    {
      "cell_type": "code",
      "metadata": {
        "id": "byjZiwhd4RzL"
      },
      "source": [
        "optimizer = optim.SGD([W, b], lr = 0.01)"
      ],
      "execution_count": 58,
      "outputs": []
    },
    {
      "cell_type": "code",
      "metadata": {
        "id": "Ckge0FAY7ZNd"
      },
      "source": [
        "optimizer.zero_grad() #gradient 초기화\n",
        "cost.backward() #cost의 기울기 계산\n",
        "optimizer.step() #W와 b 업데이트"
      ],
      "execution_count": 60,
      "outputs": []
    },
    {
      "cell_type": "code",
      "metadata": {
        "colab": {
          "base_uri": "https://localhost:8080/"
        },
        "id": "DhhjkS1U7-H_",
        "outputId": "34079d2d-b0bd-4deb-c701-57d68e447f16"
      },
      "source": [
        "num_epochs = 1000\n",
        "for epoch in range(num_epochs):\n",
        "  hypothesis = x_train* W + b\n",
        "  cost = torch.mean((hypothesis-y_train)**2)\n",
        "  optimizer.zero_grad()\n",
        "  cost.backward()\n",
        "  optimizer.step()\n",
        "\n",
        "  if epoch%100 == 0:\n",
        "    print('Epoch{:4d}/{} W:{:}, b:{:}, Cost:{:.6f}'.format(epoch,num_epochs, W.item(),b.item(),cost.item()))\n"
      ],
      "execution_count": 64,
      "outputs": [
        {
          "output_type": "stream",
          "name": "stdout",
          "text": [
            "Epoch   0/1000 W:0.6318292617797852, b:0.26951324939727783, Cost:9.257346\n",
            "Epoch 100/1000 W:1.7475242614746094, b:0.5739148259162903, Cost:0.047480\n",
            "Epoch 200/1000 W:1.8015373945236206, b:0.45115214586257935, Cost:0.029340\n",
            "Epoch 300/1000 W:1.8439903259277344, b:0.35464680194854736, Cost:0.018130\n",
            "Epoch 400/1000 W:1.8773620128631592, b:0.27878478169441223, Cost:0.011203\n",
            "Epoch 500/1000 W:1.9035956859588623, b:0.21914993226528168, Cost:0.006923\n",
            "Epoch 600/1000 W:1.9242174625396729, b:0.17227165400981903, Cost:0.004278\n",
            "Epoch 700/1000 W:1.9404281377792358, b:0.13542114198207855, Cost:0.002644\n",
            "Epoch 800/1000 W:1.953170895576477, b:0.10645339637994766, Cost:0.001634\n",
            "Epoch 900/1000 W:1.9631880521774292, b:0.08368218690156937, Cost:0.001009\n"
          ]
        }
      ]
    },
    {
      "cell_type": "code",
      "metadata": {
        "colab": {
          "base_uri": "https://localhost:8080/",
          "height": 284
        },
        "id": "fDeX4yg_9GNR",
        "outputId": "7b6b4dc8-cf0f-4770-a4c6-866f0f29a377"
      },
      "source": [
        "W2= W.detach().numpy()\n",
        "b2= b.detach().numpy()\n",
        "plt.plot(x,W2*x+b2, 'r')\n",
        "plt.scatter(x_train, y_train)"
      ],
      "execution_count": 71,
      "outputs": [
        {
          "output_type": "execute_result",
          "data": {
            "text/plain": [
              "<matplotlib.collections.PathCollection at 0x7f4ad524b5d0>"
            ]
          },
          "metadata": {},
          "execution_count": 71
        },
        {
          "output_type": "display_data",
          "data": {
            "image/png": "[encoded data removed]",
            "text/plain": [
              "<Figure size 432x288 with 1 Axes>"
            ]
          },
          "metadata": {
            "needs_background": "light"
          }
        }
      ]
    }
  ]
}